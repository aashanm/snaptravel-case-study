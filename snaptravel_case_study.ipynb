{
  "nbformat": 4,
  "nbformat_minor": 0,
  "metadata": {
    "colab": {
      "name": "snaptravel_case_study.ipynb",
      "provenance": []
    },
    "kernelspec": {
      "name": "python3",
      "display_name": "Python 3"
    },
    "language_info": {
      "name": "python"
    }
  },
  "cells": [
    {
      "cell_type": "markdown",
      "metadata": {
        "id": "62mjceE2T3Tj"
      },
      "source": [
        "# Snaptravel - Case Study (Data Engineering Intern)\n",
        "\n",
        "## Data Preprocessing"
      ]
    },
    {
      "cell_type": "code",
      "metadata": {
        "id": "oBxJGo-_UKze"
      },
      "source": [
        "# Imports\n",
        "import io\n",
        "import re\n",
        "import pandas as pd\n",
        "import numpy as np\n",
        "\n",
        "# Raw data\n",
        "data = 'Airline Code;DelayTimes;FlightCodes;To_From\\nAir Canada (!);[21,\\\n",
        "40];20015.0;WAterLoo_NEWYork\\n<Air France> (12);[];;Montreal_TORONTO\\n(Porter Airways.\\\n",
        ");[60, 22, 87];20035.0;CALgary_Ottawa\\n12. Air France;[78,\\\n",
        "66];;Ottawa_VANcouvER\\n\"\"\".\\\\.Lufthansa.\\\\.\"\"\";[12, 33];20055.0;london_MONTreal\\n'"
      ],
      "execution_count": 18,
      "outputs": []
    },
    {
      "cell_type": "code",
      "metadata": {
        "colab": {
          "base_uri": "https://localhost:8080/",
          "height": 195
        },
        "id": "gDzwZWbtUOMR",
        "outputId": "6b421e0f-2f43-4fdb-8b7f-cb21da30c8bd"
      },
      "source": [
        "# Convert to DataFrame\n",
        "data = io.StringIO(data)\n",
        "df = pd.read_csv(data, sep=';')\n",
        "df"
      ],
      "execution_count": 19,
      "outputs": [
        {
          "output_type": "execute_result",
          "data": {
            "text/html": [
              "<div>\n",
              "<style scoped>\n",
              "    .dataframe tbody tr th:only-of-type {\n",
              "        vertical-align: middle;\n",
              "    }\n",
              "\n",
              "    .dataframe tbody tr th {\n",
              "        vertical-align: top;\n",
              "    }\n",
              "\n",
              "    .dataframe thead th {\n",
              "        text-align: right;\n",
              "    }\n",
              "</style>\n",
              "<table border=\"1\" class=\"dataframe\">\n",
              "  <thead>\n",
              "    <tr style=\"text-align: right;\">\n",
              "      <th></th>\n",
              "      <th>Airline Code</th>\n",
              "      <th>DelayTimes</th>\n",
              "      <th>FlightCodes</th>\n",
              "      <th>To_From</th>\n",
              "    </tr>\n",
              "  </thead>\n",
              "  <tbody>\n",
              "    <tr>\n",
              "      <th>0</th>\n",
              "      <td>Air Canada (!)</td>\n",
              "      <td>[21,40]</td>\n",
              "      <td>20015.0</td>\n",
              "      <td>WAterLoo_NEWYork</td>\n",
              "    </tr>\n",
              "    <tr>\n",
              "      <th>1</th>\n",
              "      <td>&lt;Air France&gt; (12)</td>\n",
              "      <td>[]</td>\n",
              "      <td>NaN</td>\n",
              "      <td>Montreal_TORONTO</td>\n",
              "    </tr>\n",
              "    <tr>\n",
              "      <th>2</th>\n",
              "      <td>(Porter Airways.)</td>\n",
              "      <td>[60, 22, 87]</td>\n",
              "      <td>20035.0</td>\n",
              "      <td>CALgary_Ottawa</td>\n",
              "    </tr>\n",
              "    <tr>\n",
              "      <th>3</th>\n",
              "      <td>12. Air France</td>\n",
              "      <td>[78,66]</td>\n",
              "      <td>NaN</td>\n",
              "      <td>Ottawa_VANcouvER</td>\n",
              "    </tr>\n",
              "    <tr>\n",
              "      <th>4</th>\n",
              "      <td>\".\\.Lufthansa.\\.\"</td>\n",
              "      <td>[12, 33]</td>\n",
              "      <td>20055.0</td>\n",
              "      <td>london_MONTreal</td>\n",
              "    </tr>\n",
              "  </tbody>\n",
              "</table>\n",
              "</div>"
            ],
            "text/plain": [
              "        Airline Code    DelayTimes  FlightCodes           To_From\n",
              "0     Air Canada (!)       [21,40]      20015.0  WAterLoo_NEWYork\n",
              "1  <Air France> (12)            []          NaN  Montreal_TORONTO\n",
              "2  (Porter Airways.)  [60, 22, 87]      20035.0    CALgary_Ottawa\n",
              "3     12. Air France       [78,66]          NaN  Ottawa_VANcouvER\n",
              "4  \".\\.Lufthansa.\\.\"      [12, 33]      20055.0   london_MONTreal"
            ]
          },
          "metadata": {
            "tags": []
          },
          "execution_count": 19
        }
      ]
    },
    {
      "cell_type": "markdown",
      "metadata": {
        "id": "To75tQ7aUTMW"
      },
      "source": [
        "### Transformation 1\n",
        "\n",
        "FlightCodes column: Some values are null. Flight Codes are supposed to increase by 10 with each row so 1010 and 1030 will have 1020 in the middle. Fill in these missing numbers and make the column an integer column (instead of a float column)."
      ]
    },
    {
      "cell_type": "code",
      "metadata": {
        "colab": {
          "base_uri": "https://localhost:8080/",
          "height": 195
        },
        "id": "MVYtE1IBUXL7",
        "outputId": "86d4aa98-b271-4892-eac1-f5a0c7418753"
      },
      "source": [
        "df['FlightCodes'] = pd.to_numeric(df['FlightCodes']).interpolate().astype(int)\n",
        "df"
      ],
      "execution_count": 20,
      "outputs": [
        {
          "output_type": "execute_result",
          "data": {
            "text/html": [
              "<div>\n",
              "<style scoped>\n",
              "    .dataframe tbody tr th:only-of-type {\n",
              "        vertical-align: middle;\n",
              "    }\n",
              "\n",
              "    .dataframe tbody tr th {\n",
              "        vertical-align: top;\n",
              "    }\n",
              "\n",
              "    .dataframe thead th {\n",
              "        text-align: right;\n",
              "    }\n",
              "</style>\n",
              "<table border=\"1\" class=\"dataframe\">\n",
              "  <thead>\n",
              "    <tr style=\"text-align: right;\">\n",
              "      <th></th>\n",
              "      <th>Airline Code</th>\n",
              "      <th>DelayTimes</th>\n",
              "      <th>FlightCodes</th>\n",
              "      <th>To_From</th>\n",
              "    </tr>\n",
              "  </thead>\n",
              "  <tbody>\n",
              "    <tr>\n",
              "      <th>0</th>\n",
              "      <td>Air Canada (!)</td>\n",
              "      <td>[21,40]</td>\n",
              "      <td>20015</td>\n",
              "      <td>WAterLoo_NEWYork</td>\n",
              "    </tr>\n",
              "    <tr>\n",
              "      <th>1</th>\n",
              "      <td>&lt;Air France&gt; (12)</td>\n",
              "      <td>[]</td>\n",
              "      <td>20025</td>\n",
              "      <td>Montreal_TORONTO</td>\n",
              "    </tr>\n",
              "    <tr>\n",
              "      <th>2</th>\n",
              "      <td>(Porter Airways.)</td>\n",
              "      <td>[60, 22, 87]</td>\n",
              "      <td>20035</td>\n",
              "      <td>CALgary_Ottawa</td>\n",
              "    </tr>\n",
              "    <tr>\n",
              "      <th>3</th>\n",
              "      <td>12. Air France</td>\n",
              "      <td>[78,66]</td>\n",
              "      <td>20045</td>\n",
              "      <td>Ottawa_VANcouvER</td>\n",
              "    </tr>\n",
              "    <tr>\n",
              "      <th>4</th>\n",
              "      <td>\".\\.Lufthansa.\\.\"</td>\n",
              "      <td>[12, 33]</td>\n",
              "      <td>20055</td>\n",
              "      <td>london_MONTreal</td>\n",
              "    </tr>\n",
              "  </tbody>\n",
              "</table>\n",
              "</div>"
            ],
            "text/plain": [
              "        Airline Code    DelayTimes  FlightCodes           To_From\n",
              "0     Air Canada (!)       [21,40]        20015  WAterLoo_NEWYork\n",
              "1  <Air France> (12)            []        20025  Montreal_TORONTO\n",
              "2  (Porter Airways.)  [60, 22, 87]        20035    CALgary_Ottawa\n",
              "3     12. Air France       [78,66]        20045  Ottawa_VANcouvER\n",
              "4  \".\\.Lufthansa.\\.\"      [12, 33]        20055   london_MONTreal"
            ]
          },
          "metadata": {
            "tags": []
          },
          "execution_count": 20
        }
      ]
    },
    {
      "cell_type": "markdown",
      "metadata": {
        "id": "zNzvff7DUg71"
      },
      "source": [
        "### Transformation 2\n",
        "\n",
        "ToFrom column: Should be split into two separate columns for better analysis! Split on '_' to create two new columns respectively. Also, the case of the column is not very readable, convert the column into capital case.\n",
        "\n"
      ]
    },
    {
      "cell_type": "code",
      "metadata": {
        "colab": {
          "base_uri": "https://localhost:8080/",
          "height": 195
        },
        "id": "Si5vYdLrUjaV",
        "outputId": "8edc7321-76a2-4b51-f4db-982af41c5931"
      },
      "source": [
        "df[['To', 'From']] = df['To_From'].str.upper().str.split('_', expand=True)\n",
        "df = df.drop(['To_From'], axis=1)\n",
        "df"
      ],
      "execution_count": 21,
      "outputs": [
        {
          "output_type": "execute_result",
          "data": {
            "text/html": [
              "<div>\n",
              "<style scoped>\n",
              "    .dataframe tbody tr th:only-of-type {\n",
              "        vertical-align: middle;\n",
              "    }\n",
              "\n",
              "    .dataframe tbody tr th {\n",
              "        vertical-align: top;\n",
              "    }\n",
              "\n",
              "    .dataframe thead th {\n",
              "        text-align: right;\n",
              "    }\n",
              "</style>\n",
              "<table border=\"1\" class=\"dataframe\">\n",
              "  <thead>\n",
              "    <tr style=\"text-align: right;\">\n",
              "      <th></th>\n",
              "      <th>Airline Code</th>\n",
              "      <th>DelayTimes</th>\n",
              "      <th>FlightCodes</th>\n",
              "      <th>To</th>\n",
              "      <th>From</th>\n",
              "    </tr>\n",
              "  </thead>\n",
              "  <tbody>\n",
              "    <tr>\n",
              "      <th>0</th>\n",
              "      <td>Air Canada (!)</td>\n",
              "      <td>[21,40]</td>\n",
              "      <td>20015</td>\n",
              "      <td>WATERLOO</td>\n",
              "      <td>NEWYORK</td>\n",
              "    </tr>\n",
              "    <tr>\n",
              "      <th>1</th>\n",
              "      <td>&lt;Air France&gt; (12)</td>\n",
              "      <td>[]</td>\n",
              "      <td>20025</td>\n",
              "      <td>MONTREAL</td>\n",
              "      <td>TORONTO</td>\n",
              "    </tr>\n",
              "    <tr>\n",
              "      <th>2</th>\n",
              "      <td>(Porter Airways.)</td>\n",
              "      <td>[60, 22, 87]</td>\n",
              "      <td>20035</td>\n",
              "      <td>CALGARY</td>\n",
              "      <td>OTTAWA</td>\n",
              "    </tr>\n",
              "    <tr>\n",
              "      <th>3</th>\n",
              "      <td>12. Air France</td>\n",
              "      <td>[78,66]</td>\n",
              "      <td>20045</td>\n",
              "      <td>OTTAWA</td>\n",
              "      <td>VANCOUVER</td>\n",
              "    </tr>\n",
              "    <tr>\n",
              "      <th>4</th>\n",
              "      <td>\".\\.Lufthansa.\\.\"</td>\n",
              "      <td>[12, 33]</td>\n",
              "      <td>20055</td>\n",
              "      <td>LONDON</td>\n",
              "      <td>MONTREAL</td>\n",
              "    </tr>\n",
              "  </tbody>\n",
              "</table>\n",
              "</div>"
            ],
            "text/plain": [
              "        Airline Code    DelayTimes  FlightCodes        To       From\n",
              "0     Air Canada (!)       [21,40]        20015  WATERLOO    NEWYORK\n",
              "1  <Air France> (12)            []        20025  MONTREAL    TORONTO\n",
              "2  (Porter Airways.)  [60, 22, 87]        20035   CALGARY     OTTAWA\n",
              "3     12. Air France       [78,66]        20045    OTTAWA  VANCOUVER\n",
              "4  \".\\.Lufthansa.\\.\"      [12, 33]        20055    LONDON   MONTREAL"
            ]
          },
          "metadata": {
            "tags": []
          },
          "execution_count": 21
        }
      ]
    },
    {
      "cell_type": "markdown",
      "metadata": {
        "id": "geS5b9PLUr9f"
      },
      "source": [
        "### Transformation 3\n",
        "Airline Code column: Clean the Airline Codes to have no punctuation except spaces in the middle. E.g. '(Porter Airways. )' should become 'Porter Airways'."
      ]
    },
    {
      "cell_type": "code",
      "metadata": {
        "colab": {
          "base_uri": "https://localhost:8080/",
          "height": 195
        },
        "id": "awk_sWiNUuPj",
        "outputId": "d682e8a2-f8a4-41cd-bcec-32c6a5a52e19"
      },
      "source": [
        "df['Airline Code'] = df['Airline Code'].str.replace('[^\\w\\s]','')\n",
        "df"
      ],
      "execution_count": 22,
      "outputs": [
        {
          "output_type": "execute_result",
          "data": {
            "text/html": [
              "<div>\n",
              "<style scoped>\n",
              "    .dataframe tbody tr th:only-of-type {\n",
              "        vertical-align: middle;\n",
              "    }\n",
              "\n",
              "    .dataframe tbody tr th {\n",
              "        vertical-align: top;\n",
              "    }\n",
              "\n",
              "    .dataframe thead th {\n",
              "        text-align: right;\n",
              "    }\n",
              "</style>\n",
              "<table border=\"1\" class=\"dataframe\">\n",
              "  <thead>\n",
              "    <tr style=\"text-align: right;\">\n",
              "      <th></th>\n",
              "      <th>Airline Code</th>\n",
              "      <th>DelayTimes</th>\n",
              "      <th>FlightCodes</th>\n",
              "      <th>To</th>\n",
              "      <th>From</th>\n",
              "    </tr>\n",
              "  </thead>\n",
              "  <tbody>\n",
              "    <tr>\n",
              "      <th>0</th>\n",
              "      <td>Air Canada</td>\n",
              "      <td>[21,40]</td>\n",
              "      <td>20015</td>\n",
              "      <td>WATERLOO</td>\n",
              "      <td>NEWYORK</td>\n",
              "    </tr>\n",
              "    <tr>\n",
              "      <th>1</th>\n",
              "      <td>Air France 12</td>\n",
              "      <td>[]</td>\n",
              "      <td>20025</td>\n",
              "      <td>MONTREAL</td>\n",
              "      <td>TORONTO</td>\n",
              "    </tr>\n",
              "    <tr>\n",
              "      <th>2</th>\n",
              "      <td>Porter Airways</td>\n",
              "      <td>[60, 22, 87]</td>\n",
              "      <td>20035</td>\n",
              "      <td>CALGARY</td>\n",
              "      <td>OTTAWA</td>\n",
              "    </tr>\n",
              "    <tr>\n",
              "      <th>3</th>\n",
              "      <td>12 Air France</td>\n",
              "      <td>[78,66]</td>\n",
              "      <td>20045</td>\n",
              "      <td>OTTAWA</td>\n",
              "      <td>VANCOUVER</td>\n",
              "    </tr>\n",
              "    <tr>\n",
              "      <th>4</th>\n",
              "      <td>Lufthansa</td>\n",
              "      <td>[12, 33]</td>\n",
              "      <td>20055</td>\n",
              "      <td>LONDON</td>\n",
              "      <td>MONTREAL</td>\n",
              "    </tr>\n",
              "  </tbody>\n",
              "</table>\n",
              "</div>"
            ],
            "text/plain": [
              "     Airline Code    DelayTimes  FlightCodes        To       From\n",
              "0     Air Canada        [21,40]        20015  WATERLOO    NEWYORK\n",
              "1   Air France 12            []        20025  MONTREAL    TORONTO\n",
              "2  Porter Airways  [60, 22, 87]        20035   CALGARY     OTTAWA\n",
              "3   12 Air France       [78,66]        20045    OTTAWA  VANCOUVER\n",
              "4       Lufthansa      [12, 33]        20055    LONDON   MONTREAL"
            ]
          },
          "metadata": {
            "tags": []
          },
          "execution_count": 22
        }
      ]
    },
    {
      "cell_type": "markdown",
      "metadata": {
        "id": "3TdWrgDyU2dd"
      },
      "source": [
        "### Mock SQL Query\n",
        "\n",
        "Write a mock SQL query on the above table to find all flights leaving from Waterloo."
      ]
    },
    {
      "cell_type": "code",
      "metadata": {
        "id": "OwGVQut_VDcE"
      },
      "source": [
        "SELECT * FROM df WHERE df.From = 'Waterloo'"
      ],
      "execution_count": null,
      "outputs": []
    }
  ]
}
